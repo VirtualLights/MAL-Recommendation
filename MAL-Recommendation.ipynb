{
 "cells": [
  {
   "cell_type": "code",
   "execution_count": 1,
   "metadata": {},
   "outputs": [],
   "source": [
    "import numpy as np\n",
    "import pandas as pd\n",
    "\n",
    "data = pd.read_csv('data.csv')"
   ]
  },
  {
   "cell_type": "code",
   "execution_count": 2,
   "metadata": {},
   "outputs": [],
   "source": [
    "#Full list without zero scores\n",
    "#no_zero_score_data = data.loc[data['score'] > 0]\n",
    "\n",
    "#List with zero scores and a status of 1, 2, or 6 (see MAL-Scraper)\n",
    "#status = {1, 2, 6}\n",
    "#WCPtW_data = data.loc[data['status'].isin(status)]\n",
    "\n",
    "#List with zero scores and a status of 1 or 2\n",
    "#WC_data = data.loc[data['status'] <= 2]\n",
    "\n",
    "#List without zero scores and a status of 2\n",
    "C_data = data.loc[(data['status'] == 2) & (data['score'] > 0)]\n",
    "\n",
    "#C_train = C_data.sample(frac=0.8, random_state=1)\n",
    "#C_test = C_data.drop(C_train.index)\n"
   ]
  },
  {
   "cell_type": "code",
   "execution_count": 3,
   "metadata": {},
   "outputs": [
    {
     "name": "stderr",
     "output_type": "stream",
     "text": [
      "E:\\Anaconda\\lib\\site-packages\\lightfm\\_lightfm_fast.py:9: UserWarning: LightFM was compiled without OpenMP support. Only a single thread will be used.\n",
      "  warnings.warn('LightFM was compiled without OpenMP support. '\n"
     ]
    }
   ],
   "source": [
    "from lightfm.data import Dataset\n",
    "\n",
    "#Building the dataset\n",
    "dataset = Dataset()\n",
    "dataset.fit(C_data['user'].values, C_data['anime_id'].values)\n",
    "\n",
    "#Building the interactions matrix and the user features matrix\n",
    "(interactions, weights) = dataset.build_interactions(zip(C_data['user'].values,\n",
    "                                                         C_data['anime_id'].values,\n",
    "                                                         C_data['score'].values))"
   ]
  },
  {
   "cell_type": "code",
   "execution_count": 4,
   "metadata": {},
   "outputs": [
    {
     "data": {
      "text/plain": [
       "<lightfm.lightfm.LightFM at 0x151beef0>"
      ]
     },
     "execution_count": 4,
     "metadata": {},
     "output_type": "execute_result"
    }
   ],
   "source": [
    "from lightfm import LightFM\n",
    "\n",
    "model = LightFM(loss='bpr')\n",
    "model.fit(interactions, sample_weight=weights, epochs=10)"
   ]
  },
  {
   "cell_type": "code",
   "execution_count": 34,
   "metadata": {},
   "outputs": [],
   "source": [
    "mappings = dataset.mapping()\n",
    "# Dict of the form {username : LightFM userid}\n",
    "users = mappings[0]\n",
    "# Dict of the form {LightFM animeid : MAL animeid}\n",
    "animes = {v: k for k, v in mappings[2].items()}\n",
    "animes_list = np.array([*animes.keys()])"
   ]
  },
  {
   "cell_type": "code",
   "execution_count": 74,
   "metadata": {},
   "outputs": [
    {
     "name": "stdout",
     "output_type": "stream",
     "text": [
      "[28891, 32935, 20583, 24415, 16894, 11771, 21995, 23273, 36949, 35760]\n"
     ]
    }
   ],
   "source": [
    "from operator import itemgetter\n",
    "user = \"FinalReality56\"   \n",
    "\n",
    "user_id = 0 #users[user]\n",
    "\n",
    "known_positives = C_data.loc[C_data['user'] == user]\n",
    "known_positives = known_positives['anime_id'].values\n",
    "for i in range(len(known_positives)):\n",
    "    known_positives[i] = mappings[2][known_positives[i]]\n",
    "\n",
    "unwatched_anime = np.setxor1d(known_positives, animes_list)\n",
    "\n",
    "scores = model.predict(user_id, unwatched_anime)\n",
    "scores = list(zip(unwatched_anime, scores))\n",
    "scores.sort(key=itemgetter(1))\n",
    "\n",
    "n = 10\n",
    "topn = [scores[i][0] for i in range(n)]\n",
    "top10 = [animes[i] for i in topn]"
   ]
  },
  {
   "cell_type": "code",
   "execution_count": null,
   "metadata": {},
   "outputs": [],
   "source": []
  }
 ],
 "metadata": {
  "kernelspec": {
   "display_name": "Python 3",
   "language": "python",
   "name": "python3"
  },
  "language_info": {
   "codemirror_mode": {
    "name": "ipython",
    "version": 3
   },
   "file_extension": ".py",
   "mimetype": "text/x-python",
   "name": "python",
   "nbconvert_exporter": "python",
   "pygments_lexer": "ipython3",
   "version": "3.7.0"
  }
 },
 "nbformat": 4,
 "nbformat_minor": 2
}
