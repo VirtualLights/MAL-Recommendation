{
 "cells": [
  {
   "cell_type": "code",
   "execution_count": 1,
   "metadata": {},
   "outputs": [],
   "source": [
    "import numpy as np\n",
    "import pandas as pd\n",
    "\n",
    "data = pd.read_csv('data.csv')"
   ]
  },
  {
   "cell_type": "code",
   "execution_count": 2,
   "metadata": {},
   "outputs": [],
   "source": [
    "#Full list without zero scores\n",
    "#no_zero_score_data = data.loc[data['score'] > 0]\n",
    "\n",
    "#List with zero scores and a status of 1, 2, or 6 (see MAL-Scraper)\n",
    "#status = {1, 2, 6}\n",
    "#WCPtW_data = data.loc[data['status'].isin(status)]\n",
    "\n",
    "#List with zero scores and a status of 1 or 2\n",
    "#WC_data = data.loc[data['status'] <= 2]\n",
    "\n",
    "#List without zero scores and a status of 2\n",
    "C_data = data.loc[(data['status'] == 2) & (data['score'] > 0)]"
   ]
  },
  {
   "cell_type": "code",
   "execution_count": 3,
   "metadata": {},
   "outputs": [
    {
     "name": "stderr",
     "output_type": "stream",
     "text": [
      "E:\\Anaconda\\lib\\site-packages\\lightfm\\_lightfm_fast.py:9: UserWarning: LightFM was compiled without OpenMP support. Only a single thread will be used.\n",
      "  warnings.warn('LightFM was compiled without OpenMP support. '\n"
     ]
    }
   ],
   "source": [
    "from lightfm.data import Dataset\n",
    "\n",
    "#Building the dataset\n",
    "dataset = Dataset()\n",
    "dataset.fit(C_data['user'].values, C_data['anime_id'].values)\n",
    "\n",
    "#Building the interactions matrix and the user features matrix\n",
    "(interactions, weights) = dataset.build_interactions(zip(C_data['user'].values,\n",
    "                                                         C_data['anime_id'].values,\n",
    "                                                         C_data['score'].values))"
   ]
  },
  {
   "cell_type": "code",
   "execution_count": 4,
   "metadata": {},
   "outputs": [
    {
     "data": {
      "text/plain": [
       "<lightfm.lightfm.LightFM at 0x151bcf60>"
      ]
     },
     "execution_count": 4,
     "metadata": {},
     "output_type": "execute_result"
    }
   ],
   "source": [
    "from lightfm import LightFM\n",
    "\n",
    "model = LightFM(loss='bpr')\n",
    "model.fit(interactions, sample_weight=weights, epochs=10)"
   ]
  },
  {
   "cell_type": "code",
   "execution_count": 6,
   "metadata": {},
   "outputs": [
    {
     "name": "stdout",
     "output_type": "stream",
     "text": [
      "Collaborative filtering train AUC: 0.920271\n",
      "Collaborative filtering test AUC: 0.898201\n"
     ]
    }
   ],
   "source": [
    "from lightfm.evaluation import auc_score\n",
    "\n",
    "#Splitting training and testing sets\n",
    "C_train = C_data.sample(frac=0.8, random_state=1)\n",
    "C_test = C_data.drop(C_train.index)\n",
    "\n",
    "#Building the training interactions matrix and the user features matrix\n",
    "(train_interactions, train_weights) = dataset.build_interactions(\n",
    "                                                         zip(C_train['user'].values,\n",
    "                                                         C_train['anime_id'].values,\n",
    "                                                         C_train['score'].values))\n",
    "#Building the testing interactions matrix and the user features matrix\n",
    "(test_interactions, test_weights) = dataset.build_interactions(\n",
    "                                                         zip(C_test['user'].values,\n",
    "                                                         C_test['anime_id'].values,\n",
    "                                                         C_test['score'].values))\n",
    "\n",
    "train_model = LightFM(loss='bpr')\n",
    "train_model.fit(train_interactions, sample_weight=train_weights, epochs=10)\n",
    "\n",
    "train_auc = auc_score(train_model, train_interactions).mean()\n",
    "print('Collaborative filtering train AUC: %s' % train_auc)\n",
    "test_auc = auc_score(train_model, test_interactions, train_interactions=train_interactions).mean()\n",
    "print('Collaborative filtering test AUC: %s' % test_auc)"
   ]
  },
  {
   "cell_type": "code",
   "execution_count": null,
   "metadata": {},
   "outputs": [],
   "source": [
    "mappings = dataset.mapping()\n",
    "# Dict of the form {username : LightFM userid}\n",
    "users = mappings[0]\n",
    "# Dict of the form {LightFM animeid : MAL animeid}\n",
    "animes = {v: k for k, v in mappings[2].items()}\n",
    "animes_list = np.array([*animes.keys()])"
   ]
  },
  {
   "cell_type": "code",
   "execution_count": null,
   "metadata": {},
   "outputs": [],
   "source": [
    "from operator import itemgetter\n",
    "\n",
    "def getTopN(user, n):\n",
    "    user_id = users[user]\n",
    "\n",
    "    known_positives = C_data.loc[C_data['user'] == user]\n",
    "    known_positives = known_positives['anime_id'].values\n",
    "    for i in range(len(known_positives)):\n",
    "        known_positives[i] = mappings[2][known_positives[i]]\n",
    "\n",
    "    unwatched_anime = np.setxor1d(known_positives, animes_list)\n",
    "\n",
    "    scores = model.predict(user_id, unwatched_anime)\n",
    "    scores = list(zip(unwatched_anime, scores))\n",
    "    scores.sort(key=itemgetter(1))\n",
    "\n",
    "    topN = [scores[i][0] for i in range(n)]\n",
    "    topN = [animes[i] for i in topN]\n",
    "    \n",
    "    return topN"
   ]
  },
  {
   "cell_type": "code",
   "execution_count": null,
   "metadata": {},
   "outputs": [],
   "source": [
    "from bs4 import BeautifulSoup\n",
    "import requests\n",
    "import time\n",
    "\n",
    "def getTitle(anime_ids):\n",
    "    base_url = \"https://myanimelist.net/anime/\"\n",
    "    titles_list = []\n",
    "    \n",
    "    for anime_id in anime_ids:\n",
    "        for i in range(10):\n",
    "            url = base_url + str(anime_id)\n",
    "            try:\n",
    "                page = requests.get(url)\n",
    "                soup = BeautifulSoup(page.text, \"lxml\")\n",
    "                title = soup.title.text.split(\" - \")[0].strip('\\n')\n",
    "                image_url = soup.find('img', attrs={\"class\":'ac'})['src']\n",
    "                                \n",
    "            #Alternative error handling - it is faster, but may not return all of the results\n",
    "            except (requests.ConnectionError, AttributeError) as e:\n",
    "                #error_string = (\"There was an error in accessing the page.\"\n",
    "                #               \" You can access the page manually with the url:\"\n",
    "                #               \" {}\".format(url))\n",
    "                #titles_list.append((error_string, e))\n",
    "                time.sleep(5)\n",
    "                continue\n",
    "                \n",
    "\n",
    "            titles_list.append((title, url, image_url))\n",
    "            break\n",
    "        \n",
    "    return titles_list\n",
    "        "
   ]
  },
  {
   "cell_type": "code",
   "execution_count": null,
   "metadata": {},
   "outputs": [],
   "source": [
    "def getRecommendations(user, n=5):\n",
    "    topN = getTopN(user, n)\n",
    "    topNInfo = getTitle(topN)\n",
    "    return topNInfo\n"
   ]
  },
  {
   "cell_type": "code",
   "execution_count": null,
   "metadata": {},
   "outputs": [],
   "source": [
    "def testing():\n",
    "    user = \"FinalReality56\"\n",
    "    topN = getTopN(user, 10)\n",
    "    print(topN)\n",
    "\n",
    "    start = time.time()\n",
    "    a = getTitle(topN) \n",
    "    print(a)\n",
    "    print(len(a))\n",
    "    end = time.time()\n",
    "    print(end - start)\n",
    "\n",
    "testing()"
   ]
  },
  {
   "cell_type": "markdown",
   "metadata": {},
   "source": []
  }
 ],
 "metadata": {
  "kernelspec": {
   "display_name": "Python 3",
   "language": "python",
   "name": "python3"
  },
  "language_info": {
   "codemirror_mode": {
    "name": "ipython",
    "version": 3
   },
   "file_extension": ".py",
   "mimetype": "text/x-python",
   "name": "python",
   "nbconvert_exporter": "python",
   "pygments_lexer": "ipython3",
   "version": "3.7.0"
  }
 },
 "nbformat": 4,
 "nbformat_minor": 2
}
